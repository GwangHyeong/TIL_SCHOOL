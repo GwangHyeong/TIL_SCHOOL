{
 "cells": [
  {
   "cell_type": "markdown",
   "metadata": {},
   "source": [
    "# 머신러닝 3장 mnist"
   ]
  },
  {
   "cell_type": "code",
   "execution_count": 3,
   "metadata": {},
   "outputs": [
    {
     "name": "stdout",
     "output_type": "stream",
     "text": [
      "[[0. 0. 0. ... 0. 0. 0.]\n",
      " [0. 0. 0. ... 0. 0. 0.]\n",
      " [0. 0. 0. ... 0. 0. 0.]\n",
      " ...\n",
      " [0. 0. 0. ... 0. 0. 0.]\n",
      " [0. 0. 0. ... 0. 0. 0.]\n",
      " [0. 0. 0. ... 0. 0. 0.]]\n",
      "[5 0 4 ... 4 5 6]\n"
     ]
    }
   ],
   "source": [
    "import numpy as np\n",
    "from sklearn.datasets import fetch_openml\n",
    "\n",
    "mnist = fetch_openml('mnist_784', version=1, cache=True)\n",
    "mnist.target = mnist.target.astype(np.int8) # fetch_openml() returns targets as strings\n",
    "\n",
    "print(mnist[\"data\"])   # mnist.data으로 접근 가능\n",
    "print(mnist[\"target\"]) # mnist.target으로 접근 가능\n",
    "# mnist dataset은 Pandas DataFrame 자료구조로 되어 있음\n",
    "# Pandas 자료구조에서는  DataFrame의 열을 이루는 각 Series는 각 열이름으로 된 \n",
    "# dictionary style의 indexing을 통해 접근할 수 있음. \n",
    "# 또한 문자열인 열(column)이름을 이용해 속성 style(DataFrame_name.column_name) \n",
    "# 로 접근 가능"
   ]
  },
  {
   "cell_type": "code",
   "execution_count": 4,
   "metadata": {},
   "outputs": [
    {
     "name": "stdout",
     "output_type": "stream",
     "text": [
      "X.shape=(70000, 784)\n",
      "y.shape=(70000,)\n"
     ]
    }
   ],
   "source": [
    "#--------------------------------------------\n",
    "#  dataset 구조이해\n",
    "#--------------------------------------------\n",
    "X, y = mnist['data'], mnist['target']\n",
    "print('X.shape={}'.format(X.shape))\n",
    "print('y.shape={}'.format(y.shape))"
   ]
  },
  {
   "cell_type": "code",
   "execution_count": 5,
   "metadata": {},
   "outputs": [
    {
     "data": {
      "image/png": "[encoded data removed]",
      "text/plain": [
       "<Figure size 432x288 with 1 Axes>"
      ]
     },
     "metadata": {
      "needs_background": "light"
     },
     "output_type": "display_data"
    },
    {
     "name": "stdout",
     "output_type": "stream",
     "text": [
      "X[36000]=9\n",
      "\n",
      "\n"
     ]
    }
   ],
   "source": [
    "#--------------------------------------------\n",
    "#  dataset 확인\n",
    "#--------------------------------------------\n",
    "%matplotlib inline\n",
    "import matplotlib\n",
    "import matplotlib.pyplot as plt\n",
    "\n",
    "some_digit = X[36000]\n",
    "some_digit_image = some_digit.reshape(28, 28)\n",
    "\n",
    "#plt.imshow(some_digit_image, cmap=matplotlib.cm.binary,\n",
    "#           interpolation='nearest')\n",
    "plt.imshow(some_digit_image)\n",
    "plt.axis('off')\n",
    "plt.show()\n",
    "#print(some_digit_image)\n",
    "print(\"X[36000]={}\\n\\n\".format(y[36000]))"
   ]
  },
  {
   "cell_type": "markdown",
   "metadata": {},
   "source": [
    "## 3.2 이진 분류기 훈련."
   ]
  },
  {
   "cell_type": "code",
   "execution_count": 6,
   "metadata": {},
   "outputs": [
    {
     "name": "stdout",
     "output_type": "stream",
     "text": [
      "X_train=\n",
      "[[0. 0. 0. ... 0. 0. 0.]\n",
      " [0. 0. 0. ... 0. 0. 0.]\n",
      " [0. 0. 0. ... 0. 0. 0.]\n",
      " ...\n",
      " [0. 0. 0. ... 0. 0. 0.]\n",
      " [0. 0. 0. ... 0. 0. 0.]\n",
      " [0. 0. 0. ... 0. 0. 0.]]\n",
      "\n",
      "y_train=\n",
      "[5 0 4 ... 5 6 8]\n",
      "y_train_5.shape: (60000,)\n",
      "[False False False  True False False False False  True False False  True\n",
      " False False False False False False False False False False False  True\n",
      " False False False False False False False False False False False False\n",
      " False False False False False False False False False False False  True\n",
      " False False False  True False False False False False False  True False\n",
      " False False False False False False False False False False False False\n",
      " False False False False False False False  True False False False False\n",
      " False  True False False False False  True False False False False False\n",
      "  True False False False]\n"
     ]
    }
   ],
   "source": [
    "#--------------------------------------------\n",
    "# Training Binary Classifier\n",
    "# 5 를 판단하는 Classifier\n",
    "#--------------------------------------------\n",
    "# Data Shuffling\n",
    "X_train, X_test, y_train, y_test = X[:60000], X[60000:], y[:60000], y[60000:]\n",
    "print('X_train=\\n{}\\n'.format(X_train))\n",
    "print('y_train=\\n{}'.format(y_train))\n",
    "import numpy as np\n",
    "\n",
    "shuffle_index = np.random.permutation(60000)\n",
    "X_train, y_train = X_train[shuffle_index], y_train[shuffle_index]\n",
    "\n",
    "y_train_5 = (y_train == 5)  # 5는 True이고 다른 숫자는 모두 False\n",
    "y_test_5 = (y_test == 5)\n",
    "\n",
    "print('y_train_5.shape: {}'.format(y_train_5.shape))\n",
    "print(y_train_5[0:100])"
   ]
  },
  {
   "cell_type": "code",
   "execution_count": 7,
   "metadata": {},
   "outputs": [
    {
     "name": "stdout",
     "output_type": "stream",
     "text": [
      "\n",
      " predict_value[some_digit] = [False]\n"
     ]
    }
   ],
   "source": [
    "from sklearn.linear_model import SGDClassifier\n",
    "sgd_clf = SGDClassifier(max_iter=500, random_state=40)\n",
    "sgd_clf.fit(X_train, y_train_5)\n",
    "\n",
    "predict_value = sgd_clf.predict([some_digit])\n",
    "#print('predict_value[some_digit] =\\n{} '.format(some_digit, predict_value))\n",
    "print('\\n predict_value[some_digit] = {}'.format(predict_value))"
   ]
  },
  {
   "cell_type": "markdown",
   "metadata": {},
   "source": [
    "## 성능검증"
   ]
  },
  {
   "cell_type": "code",
   "execution_count": 8,
   "metadata": {},
   "outputs": [
    {
     "name": "stdout",
     "output_type": "stream",
     "text": [
      "\n",
      "n_correct/len(y_pred) = 0.965\n",
      "\n",
      "\n",
      "\n",
      "n_correct/len(y_pred) = 0.964\n",
      "\n",
      "\n",
      "\n",
      "n_correct/len(y_pred) = 0.969\n",
      "\n",
      "\n"
     ]
    }
   ],
   "source": [
    "#--------------------------------------------\n",
    "# Cross Validation\n",
    "#--------------------------------------------\n",
    "from sklearn.model_selection import StratifiedKFold\n",
    "from sklearn.base import clone\n",
    "\n",
    "skfolds = StratifiedKFold(n_splits=3, random_state=42)\n",
    "\n",
    "for train_index, test_index in skfolds.split(X_train, y_train_5):\n",
    "    clone_clf = clone(sgd_clf)\n",
    "    X_train_folds = X_train[train_index]\n",
    "    y_train_folds = y_train_5[train_index]\n",
    "    X_test_fold = X_train[test_index]\n",
    "    y_test_fold = y_train_5[test_index]\n",
    "\n",
    "    clone_clf.fit(X_train_folds, y_train_folds)\n",
    "    y_pred = clone_clf.predict(X_test_fold)\n",
    "    n_correct = sum(y_pred == y_test_fold)\n",
    "    print('\\nn_correct/len(y_pred) = {:0.3f}\\n\\n'.format(n_correct/len(y_pred)))"
   ]
  },
  {
   "cell_type": "code",
   "execution_count": 9,
   "metadata": {},
   "outputs": [
    {
     "name": "stdout",
     "output_type": "stream",
     "text": [
      "\n",
      "\n",
      "cross_val_score(5)=[0.96515 0.9637  0.969  ]\n",
      "\n",
      "\n"
     ]
    }
   ],
   "source": [
    "from sklearn.model_selection import cross_val_score\n",
    "cvs5 = cross_val_score(sgd_clf, X_train, y_train_5, cv=3, scoring='accuracy')\n",
    "print('\\n\\ncross_val_score(5)={}\\n\\n'.format(cvs5))"
   ]
  },
  {
   "cell_type": "code",
   "execution_count": 10,
   "metadata": {},
   "outputs": [
    {
     "name": "stdout",
     "output_type": "stream",
     "text": [
      "cross_val_score(Never 5)=[0.91295 0.9069  0.9091 ]\n",
      "\n",
      "\n"
     ]
    }
   ],
   "source": [
    "#--------------------------------------------------------\n",
    "# Dummy Classifier: Never 5\n",
    "# p129\n",
    "#--------------------------------------------------------\n",
    "from sklearn.base import BaseEstimator\n",
    "\n",
    "class Never5Classifier(BaseEstimator):\n",
    "    def fit(self, X, y=None):\n",
    "        pass\n",
    "    def predict(self, X):\n",
    "        return np.zeros((len(X), 1), dtype=bool)\n",
    "\n",
    "never_5_clf = Never5Classifier()\n",
    "cvs_n_5 = cross_val_score(never_5_clf, X_train, y_train_5, cv=3, scoring='accuracy')\n",
    "print('cross_val_score(Never 5)={}\\n\\n'.format(cvs_n_5))"
   ]
  },
  {
   "cell_type": "code",
   "execution_count": 11,
   "metadata": {},
   "outputs": [
    {
     "name": "stdout",
     "output_type": "stream",
     "text": [
      "confusion matrix(5)=\n",
      "[[53524  1055]\n",
      " [  988  4433]]\n",
      "\n",
      "\n"
     ]
    }
   ],
   "source": [
    "#--------------------------------------------------------\n",
    "# 오차행렬\n",
    "# page=129\n",
    "#--------------------------------------------------------\n",
    "from sklearn.model_selection import cross_val_predict\n",
    "\n",
    "y_train_pred = cross_val_predict(sgd_clf, X_train, y_train_5, cv=3)\n",
    "\n",
    "\n",
    "from sklearn.metrics import confusion_matrix\n",
    "\n",
    "conf_mat = confusion_matrix(y_train_5, y_train_pred)\n",
    "print('confusion matrix(5)=\\n{}\\n\\n'.format(conf_mat))\n",
    "\n",
    "#conf_mat_perf = confusion_matrix(y_train_5, y_train_perfect_predictions)\n",
    "#print('confusion matrix(Perfect)=\\n{}\\n\\n'.format(conf_mat_perf))"
   ]
  },
  {
   "cell_type": "code",
   "execution_count": null,
   "metadata": {},
   "outputs": [],
   "source": []
  }
 ],
 "metadata": {
  "kernelspec": {
   "display_name": "Python 3",
   "language": "python",
   "name": "python3"
  },
  "language_info": {
   "codemirror_mode": {
    "name": "ipython",
    "version": 3
   },
   "file_extension": ".py",
   "mimetype": "text/x-python",
   "name": "python",
   "nbconvert_exporter": "python",
   "pygments_lexer": "ipython3",
   "version": "3.7.3"
  }
 },
 "nbformat": 4,
 "nbformat_minor": 2
}
